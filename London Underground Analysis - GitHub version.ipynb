{
 "cells": [
  {
   "cell_type": "markdown",
   "metadata": {},
   "source": [
    "# London Underground Analysis"
   ]
  },
  {
   "cell_type": "markdown",
   "metadata": {},
   "source": [
    "The London Underground is a network - and what better way to understand it and analyse it by using graph theory. In this notebook, I want to create the London Underground as a graph in python as attempt to find the sortest route visiting all stations (nodes)."
   ]
  },
  {
   "cell_type": "code",
   "execution_count": 2,
   "metadata": {
    "collapsed": true
   },
   "outputs": [],
   "source": [
    "import pandas as pd\n",
    "import matplotlib as plt\n",
    "import networkx as nx\n",
    "import numpy as np\n",
    "\n",
    "df = pd.read_csv('Inter Station Train Times.csv')"
   ]
  },
  {
   "cell_type": "markdown",
   "metadata": {},
   "source": [
    "Now we have imported the data, we can clean it by naming the columns and dropping the columns just filled with NaN values. Then we will have a dataset of stations and distances between them to create our network with."
   ]
  },
  {
   "cell_type": "code",
   "execution_count": 3,
   "metadata": {},
   "outputs": [
    {
     "data": {
      "text/html": [
       "<div>\n",
       "<style>\n",
       "    .dataframe thead tr:only-child th {\n",
       "        text-align: right;\n",
       "    }\n",
       "\n",
       "    .dataframe thead th {\n",
       "        text-align: left;\n",
       "    }\n",
       "\n",
       "    .dataframe tbody tr th {\n",
       "        vertical-align: top;\n",
       "    }\n",
       "</style>\n",
       "<table border=\"1\" class=\"dataframe\">\n",
       "  <thead>\n",
       "    <tr style=\"text-align: right;\">\n",
       "      <th></th>\n",
       "      <th>Line</th>\n",
       "      <th>Direction</th>\n",
       "      <th>Station from (A)</th>\n",
       "      <th>Station to (B)</th>\n",
       "      <th>Distance (Kms)</th>\n",
       "      <th>Un-impeded Running Time (Mins)</th>\n",
       "      <th>AM peak (0700-1000) Running Time (Mins)</th>\n",
       "      <th>Inter peak (1000 - 1600) Running time (mins)</th>\n",
       "    </tr>\n",
       "  </thead>\n",
       "  <tbody>\n",
       "    <tr>\n",
       "      <th>1</th>\n",
       "      <td>Metropolitan</td>\n",
       "      <td>Westbound</td>\n",
       "      <td>FINCHLEY ROAD</td>\n",
       "      <td>HARROW-ON-THE-HILL</td>\n",
       "      <td>11.63</td>\n",
       "      <td>11.02</td>\n",
       "      <td>11.00</td>\n",
       "      <td>11.00</td>\n",
       "    </tr>\n",
       "    <tr>\n",
       "      <th>2</th>\n",
       "      <td>Metropolitan</td>\n",
       "      <td>Eastbound</td>\n",
       "      <td>HARROW-ON-THE-HILL</td>\n",
       "      <td>FINCHLEY ROAD</td>\n",
       "      <td>11.63</td>\n",
       "      <td>10.15</td>\n",
       "      <td>11.50</td>\n",
       "      <td>11.50</td>\n",
       "    </tr>\n",
       "    <tr>\n",
       "      <th>3</th>\n",
       "      <td>Metropolitan</td>\n",
       "      <td>Eastbound</td>\n",
       "      <td>CHESHAM</td>\n",
       "      <td>CHALFONT &amp; LATIMER</td>\n",
       "      <td>6.19</td>\n",
       "      <td>9.63</td>\n",
       "      <td>9.00</td>\n",
       "      <td>8.50</td>\n",
       "    </tr>\n",
       "    <tr>\n",
       "      <th>4</th>\n",
       "      <td>Metropolitan</td>\n",
       "      <td>Eastbound</td>\n",
       "      <td>MOOR PARK</td>\n",
       "      <td>HARROW-ON-THE-HILL</td>\n",
       "      <td>9.39</td>\n",
       "      <td>9.62</td>\n",
       "      <td>10.00</td>\n",
       "      <td>10.00</td>\n",
       "    </tr>\n",
       "    <tr>\n",
       "      <th>5</th>\n",
       "      <td>Metropolitan</td>\n",
       "      <td>Westbound</td>\n",
       "      <td>CHALFONT &amp; LATIMER</td>\n",
       "      <td>CHESHAM</td>\n",
       "      <td>6.19</td>\n",
       "      <td>9.48</td>\n",
       "      <td>8.64</td>\n",
       "      <td>8.50</td>\n",
       "    </tr>\n",
       "  </tbody>\n",
       "</table>\n",
       "</div>"
      ],
      "text/plain": [
       "0          Line  Direction    Station from (A)      Station to (B)  \\\n",
       "1  Metropolitan  Westbound       FINCHLEY ROAD  HARROW-ON-THE-HILL   \n",
       "2  Metropolitan  Eastbound  HARROW-ON-THE-HILL       FINCHLEY ROAD   \n",
       "3  Metropolitan  Eastbound             CHESHAM  CHALFONT & LATIMER   \n",
       "4  Metropolitan  Eastbound           MOOR PARK  HARROW-ON-THE-HILL   \n",
       "5  Metropolitan  Westbound  CHALFONT & LATIMER             CHESHAM   \n",
       "\n",
       "0 Distance (Kms) Un-impeded Running Time (Mins)  \\\n",
       "1          11.63                          11.02   \n",
       "2          11.63                          10.15   \n",
       "3           6.19                           9.63   \n",
       "4           9.39                           9.62   \n",
       "5           6.19                           9.48   \n",
       "\n",
       "0 AM peak (0700-1000) Running Time (Mins)  \\\n",
       "1                                   11.00   \n",
       "2                                   11.50   \n",
       "3                                    9.00   \n",
       "4                                   10.00   \n",
       "5                                    8.64   \n",
       "\n",
       "0 Inter peak (1000 - 1600) Running time (mins)  \n",
       "1                                        11.00  \n",
       "2                                        11.50  \n",
       "3                                         8.50  \n",
       "4                                        10.00  \n",
       "5                                         8.50  "
      ]
     },
     "execution_count": 3,
     "metadata": {},
     "output_type": "execute_result"
    }
   ],
   "source": [
    "df.columns = df.iloc[0] # Re index columns to proper header\n",
    "df.reindex(df.index.drop(0))\n",
    "df = df.drop(0, axis = 0) # Drop reindedex row\n",
    "df = df.dropna(axis = 1, how = 'all') # Drop columns with NaN values\n",
    "df = df.dropna(axis = 0, how = 'all')\n",
    "df.head()"
   ]
  },
  {
   "cell_type": "markdown",
   "metadata": {},
   "source": [
    "The data is quite good, and the best available for the job. However, it does need some cleaning so that we can use it for our purpose. Some stations that are one entity are listed separatly, for example there are 3 Paddington stations, PADDINGTION (CIRCLE), PADDINGTON (H&C) and PADDINGTON (DISTRICT). These all need to be merged to be one station, otherwise we have an inaccurate network for the TSP to solve.\n",
    "\n",
    "We will use regex to solve this. We look for a space, followed by a bracket, followed by some characters then a closign bracket. This pattern is located and removed from the string, leaving just the station name in the dataframe. This will allow the add_edge function in networkx to build our graph"
   ]
  },
  {
   "cell_type": "code",
   "execution_count": 4,
   "metadata": {
    "collapsed": true
   },
   "outputs": [],
   "source": [
    "import re\n",
    "\n",
    "for ix, item in df['Station from (A)'].iteritems(): # Get all items with brackets in and edit them, exepct for Kensington\n",
    "    if \"(\" in str(item) and item != \"KENSINGTON (OLYMPIA)\":\n",
    "        item = re.sub(\"\\s[(][^)]+[)]\", \"\", item) # Drop what is in brackets from end\n",
    "        df.loc[ix]['Station from (A)'] = item # Put that back as the item\n",
    "\n",
    "for ix, item in df['Station to (B)'].iteritems(): # Get all items with brackets in and edit them, exepct for Kensington\n",
    "    if \"(\" in str(item) and item != \"KENSINGTON (OLYMPIA)\":\n",
    "        item = re.sub(\"\\s[(][^)]+[)]\", \"\", item) # Drop what is in brackets from end\n",
    "        df.loc[ix]['Station to (B)'] = item # Put that back as the item\n"
   ]
  },
  {
   "cell_type": "code",
   "execution_count": 5,
   "metadata": {},
   "outputs": [
    {
     "name": "stdout",
     "output_type": "stream",
     "text": [
      "Name: \n",
      "Type: Graph\n",
      "Number of nodes: 269\n",
      "Number of edges: 315\n",
      "Average degree:   2.3420\n"
     ]
    }
   ],
   "source": [
    "g = nx.Graph()\n",
    "\n",
    "for ix, connection in df.iterrows():\n",
    "    station_from = connection['Station from (A)']\n",
    "    station_to = connection['Station to (B)']\n",
    "    \n",
    "    # Add edge between two stations, then add data on which line each node is on\n",
    "    g.add_edge(station_from, station_to, weight = float(connection['Un-impeded Running Time (Mins)']))\n",
    "    \n",
    "    # Add the information on what line the station is on\n",
    "    \n",
    "    try: #Node already has property \"line\"\n",
    "        if connection['Line'] not in g.node[station_from]['Line']:\n",
    "            g.node[station_from]['Line'].append(connection['Line'])\n",
    "        else: continue\n",
    "            \n",
    "    except: #Node needs empty list created, and first station in it\n",
    "        g.node[station_from]['Line'] = [connection['Line']]\n",
    "        \n",
    "        \n",
    "    try: # Do the same for the other station in the edge\n",
    "        if connection['Line'] not in g.node[station_to]['Line']:\n",
    "            g.node[station_to]['Line'].append(connection['Line'])\n",
    "        else: continue\n",
    "            \n",
    "    except:\n",
    "        g.node[station_from]['Line'] = [connection['Line']]\n",
    "        \n",
    "# Manually add some paths\n",
    "\n",
    "g.add_edge('KINGS CROSS', 'KINGS CROSS ST PANCRAS', weight = float(0.1))\n",
    "g.add_edge('EALING BROADWAY', 'PADDINGTON', weight = float(11))\n",
    "g.add_edge('UPMINSTER', 'TOWER HILL', weight = float(11))\n",
    "g.add_edge('COCKFOSTERS', 'HIGH BARNET', weight = float (37)) # 384 Bus\n",
    "g.add_edge('EDGWARE', 'STANMORE', weight = float(28)) #142 bus\n",
    "\n",
    "print(nx.info(g))"
   ]
  },
  {
   "cell_type": "code",
   "execution_count": 6,
   "metadata": {},
   "outputs": [
    {
     "name": "stdout",
     "output_type": "stream",
     "text": [
      "['FINSBURY PARK', 'HIGHBURY', 'KINGS CROSS']\n",
      "5.17\n"
     ]
    }
   ],
   "source": [
    "print(nx.shortest_path(g, source = 'FINSBURY PARK', target = 'KINGS CROSS', weight = 'weight'))\n",
    "print(nx.shortest_path_length(g, source='FINSBURY PARK', target='KINGS CROSS', weight='weight'))"
   ]
  },
  {
   "cell_type": "markdown",
   "metadata": {},
   "source": [
    "The graph knows the vic is fastest - the edge weighting has worked. Further, the TFL website says this should take 7 mins so we can see this data is accurate! \n",
    "\n",
    "Now we have the London Undergroud as a graph, with edge weights as times between stations. We can now analyse routes and begin to solve the problem. This problem is the travveling salesman problem, finding the shirtest time/distance to visit every node. This is an NP hard problem, so we can only find good approximations of a solution, not exact solutions.\n",
    "\n",
    "We can find upper and lower bound to help us analyse our results. These are values than an optimal soultion will be inbetween.\n",
    "\n",
    "An upper bound can be computed as twice the total weight of the minimum spanning tree. If we want to visit every node once, a minimum spanning tree describes this, but we get branches that might have to be traversed twice. A lower bound is therefore the size of the minimum spanning tree."
   ]
  },
  {
   "cell_type": "code",
   "execution_count": 7,
   "metadata": {},
   "outputs": [
    {
     "name": "stdout",
     "output_type": "stream",
     "text": [
      "The upper bound is:  1021.1600000000001 mins\n",
      "The lower bound is:  510.58000000000004 mins\n"
     ]
    }
   ],
   "source": [
    "mst = nx.minimum_spanning_tree(g)\n",
    "print(\"The upper bound is: \", 2*mst.size(weight = 'weight'), \"mins\")\n",
    "print(\"The lower bound is: \", mst.size(weight = 'weight'), \"mins\")"
   ]
  },
  {
   "cell_type": "markdown",
   "metadata": {},
   "source": [
    "So we know that our solution should be between 510 and 1021 minutes.\n",
    "\n",
    "Obviously, this value is not accounting for changing trains, waiting for trains and other issues along the way but these errors will be in all routes, so the end route should be ok. Also, we can later try to account for this in our modelling, by considering the time to change trains.\n",
    "\n",
    "We can't attemot to find the optimal route, tryng every combination will be 269! stations, the eventual heat death of the universe will occur before we will get a solution. An improvement on this is the Held-Karp algorithm, but this is still an $\\mathcal{O}(n\\log{}n)$ algorithm - it still suffers from the same problem. For a network this large, we must use approximation algrothms.\n",
    "\n",
    "The nearest neighbour algorithm is one to start with.\n",
    "This takes the distance matrix of the whole network, starts at one node and then visits the closest unvisited node. This may produce a good tour, or may not. It will need improvement.\n",
    "\n",
    "Names of data structures used:\n",
    "\n",
    "mat - Matrix of times between stations, generated by using the Floyd-Warshall Algorithm\n",
    "\n",
    "stations - list of stations, stations[i] gives the same station data as mat[i]\n",
    "\n",
    "visited - list of station ids in the order that they are visited\n",
    "\n",
    "route - list of station names in the order that they are visited"
   ]
  },
  {
   "cell_type": "code",
   "execution_count": 8,
   "metadata": {
    "collapsed": true
   },
   "outputs": [],
   "source": [
    "#Get a matrix of times between all stations\n",
    "mat = nx.floyd_warshall_numpy(g, weight='weight')"
   ]
  },
  {
   "cell_type": "code",
   "execution_count": 9,
   "metadata": {},
   "outputs": [
    {
     "name": "stdout",
     "output_type": "stream",
     "text": [
      "['AMERSHAM', 'CHALFONT & LATIMER', 'CHORLEYWOOD', 'RICKMANSWORTH', 'MOOR PARK', 'NORTHWOOD', 'NORTHWOOD HILLS', 'PINNER', 'NORTH HARROW', 'HARROW-ON-THE-HILL', 'NORTHWICK PARK', 'PRESTON ROAD', 'WEMBLEY PARK', 'NEASDEN', 'DOLLIS HILL', 'WILLESDEN GREEN', 'KILBURN', 'WEST HAMPSTEAD', 'FINCHLEY ROAD', 'SWISS COTTAGE', 'ST JOHNS WOOD', 'BAKER STREET', 'MARYLEBONE', 'EDGWARE ROAD', 'BAKER STREET ', 'GREAT PORTLAND STREET', 'EUSTON SQUARE', 'KINGS CROSS ST PANCRAS', 'KINGS CROSS', 'EUSTON', 'WARREN STREET', 'GOODGE STREET', 'TOTTENHAM COURT ROAD', 'OXFORD CIRCUS', 'BOND STREET', 'MARBLE ARCH', 'LANCASTER GATE', 'QUEENSWAY', 'NOTTING HILL GATE', 'HOLLAND PARK', 'SHEPHERDS BUSH', 'WHITE CITY', 'EAST ACTON', 'NORTH ACTON', 'WEST ACTON', 'EALING BROADWAY', 'EALING COMMON', 'ACTON TOWN', 'CHISWICK PARK', 'TURNHAM GREEN', 'STAMFORD BROOK', 'RAVENSCOURT PARK', 'HAMMERSMITH', 'BARONS COURT', 'WEST KENSINGTON', 'EARLS COURT', 'GLOUCESTER ROAD', 'SOUTH KENSINGTON', 'SLOANE SQUARE', 'VICTORIA', 'ST JAMES PARK', 'WESTMINSTER', 'EMBANKMENT', 'CHARING CROSS', 'LEICESTER SQUARE', 'COVENT GARDEN', 'HOLBORN', 'CHANCERY LANE', 'ST PAULS', 'BANK', 'LONDON BRIDGE', 'BOROUGH', 'ELEPHANT & CASTLE', 'KENNINGTON', 'OVAL', 'STOCKWELL', 'CLAPHAM NORTH', 'CLAPHAM COMMON', 'CLAPHAM SOUTH', 'BALHAM', 'TOOTING BEC', 'TOOTING BROADWAY', 'COLLIERS WOOD', 'SOUTH WIMBLEDON', 'MORDEN', 'SOUTH WIMBLEDON', 'COLLIERS WOOD', 'TOOTING BROADWAY', 'TOOTING BEC', 'BALHAM', 'CLAPHAM SOUTH', 'CLAPHAM COMMON', 'CLAPHAM NORTH', 'STOCKWELL', 'VAUXHALL', 'PIMLICO', 'VICTORIA', 'GREEN PARK', 'PICCADILLY CIRCUS', 'GREEN PARK', 'HYDE PARK CORNER', 'KNIGHTSBRIDGE', 'SOUTH KENSINGTON', 'GLOUCESTER ROAD', 'HIGH STREET KENSINGTON', 'NOTTING HILL GATE', 'BAYSWATER', 'PADDINGTON', 'ROYAL OAK', 'WESTBOURNE PARK', 'LADBROKE GROVE', 'LATIMER ROAD', 'WOOD LANE', 'SHEPHERDS BUSH MARKET', 'GOLDHAWK ROAD', 'HAMMERSMITH', 'BARONS COURT', 'EARLS COURT', 'WEST BROMPTON', 'FULHAM BROADWAY', 'PARSONS GREEN', 'PUTNEY BRIDGE', 'EAST PUTNEY', 'SOUTHFIELDS', 'WIMBLEDON PARK', 'WIMBLEDON', 'WIMBLEDON PARK', 'SOUTHFIELDS', 'EAST PUTNEY', 'PUTNEY BRIDGE', 'PARSONS GREEN', 'FULHAM BROADWAY', 'WEST BROMPTON', 'EARLS COURT', 'KENSINGTON (OLYMPIA)', 'EARLS COURT', 'HIGH STREET KENSINGTON', 'NOTTING HILL GATE', 'BAYSWATER', 'PADDINGTON', 'WARWICK AVENUE', 'MAIDA VALE', 'KILBURN PARK', 'QUEENS PARK', 'KENSAL GREEN', 'WILLESDEN JUNCTION', 'HARLESDEN', 'STONEBRIDGE PARK', 'WEMBLEY CENTRAL', 'NORTH WEMBLEY', 'SOUTH KENTON', 'KENTON', 'HARROW & WEALDSTONE', 'KENTON', 'SOUTH KENTON', 'NORTH WEMBLEY', 'WEMBLEY CENTRAL', 'STONEBRIDGE PARK', 'HARLESDEN', 'WILLESDEN JUNCTION', 'KENSAL GREEN', 'QUEENS PARK', 'KILBURN PARK', 'MAIDA VALE', 'WARWICK AVENUE', 'PADDINGTON', 'EDGWARE ROAD', 'MARYLEBONE', 'BAKER STREET', 'REGENTS PARK', 'OXFORD CIRCUS', 'TOTTENHAM COURT ROAD', 'HOLBORN', 'RUSSELL SQUARE', 'KINGS CROSS', 'ANGEL', 'OLD STREET', 'MOORGATE', 'LIVERPOOL STREET', 'ALDGATE', 'TOWER HILL', 'MONUMENT', 'CANNON STREET', 'MANSION HOUSE', 'BLACKFRIARS', 'TEMPLE', 'EMBANKMENT', 'WATERLOO', 'SOUTHWARK', 'WATERLOO', 'LAMBETH NORTH', 'WATERLOO', 'SOUTHWARK', 'LONDON BRIDGE', 'BERMONDSEY', 'CANADA WATER', 'CANARY WHARF', 'NORTH GREENWICH', 'CANNING TOWN', 'WEST HAM', 'PLAISTOW', 'UPTON PARK', 'EAST HAM', 'BARKING', 'UPNEY', 'BECONTREE', 'DAGENHAM HEATHWAY', 'DAGENHAM EAST', 'ELM PARK', 'HORNCHURCH', 'UPMINSTER BRIDGE', 'UPMINSTER', 'TOWER HILL', 'ALDGATE EAST', 'WHITECHAPEL', 'STEPNEY GREEN', 'MILE END', 'BOW ROAD', 'BROMLEY BY BOW', 'WEST HAM', 'STRATFORD', 'LEYTON', 'LEYTONSTONE', 'SNARESBROOK', 'SOUTH WOODFORD', 'WOODFORD', 'RODING VALLEY', 'CHIGWELL', 'GRANGE HILL', 'HAINAULT', 'FAIRLOP', 'BARKINGSIDE', 'NEWBURY PARK', 'GANTS HILL', 'REDBRIDGE', 'WANSTEAD', 'LEYTONSTONE', 'SNARESBROOK', 'SOUTH WOODFORD', 'WOODFORD', 'BUCKHURST HILL', 'LOUGHTON', 'DEBDEN', 'THEYDON BOIS', 'EPPING', 'THEYDON BOIS', 'DEBDEN', 'LOUGHTON', 'BUCKHURST HILL', 'WOODFORD', 'SOUTH WOODFORD', 'SNARESBROOK', 'LEYTONSTONE', 'LEYTON', 'STRATFORD', 'MILE END', 'BETHNAL GREEN', 'LIVERPOOL STREET', 'MOORGATE', 'BARBICAN', 'FARRINGDON', 'KINGS CROSS ST PANCRAS', 'KINGS CROSS', 'HIGHBURY', 'FINSBURY PARK', 'ARSENAL', 'HOLLOWAY ROAD', 'CALEDONIAN ROAD', 'HOLLOWAY ROAD', 'ARSENAL', 'FINSBURY PARK', 'MANOR HOUSE', 'TURNPIKE LANE', 'WOOD GREEN', 'BOUNDS GREEN', 'ARNOS GROVE', 'SOUTHGATE', 'OAKWOOD', 'COCKFOSTERS', 'OAKWOOD', 'SOUTHGATE', 'ARNOS GROVE', 'BOUNDS GREEN', 'WOOD GREEN', 'TURNPIKE LANE', 'MANOR HOUSE', 'FINSBURY PARK', 'SEVEN SISTERS', 'TOTTENHAM HALE', 'BLACKHORSE ROAD', 'WALTHAMSTOW', 'BLACKHORSE ROAD', 'TOTTENHAM HALE', 'SEVEN SISTERS', 'FINSBURY PARK', 'HIGHBURY', 'KINGS CROSS', 'EUSTON', 'MORNINGTON CRESCENT', 'CAMDEN TOWN', 'CHALK FARM', 'BELSIZE PARK', 'HAMPSTEAD', 'GOLDERS GREEN', 'BRENT CROSS', 'HENDON CENTRAL', 'COLINDALE', 'BURNT OAK', 'EDGWARE', 'BURNT OAK', 'COLINDALE', 'HENDON CENTRAL', 'BRENT CROSS', 'GOLDERS GREEN', 'HAMPSTEAD', 'BELSIZE PARK', 'CHALK FARM', 'CAMDEN TOWN', 'KENTISH TOWN', 'TUFNELL PARK', 'ARCHWAY', 'HIGHGATE', 'EAST FINCHLEY', 'FINCHLEY CENTRAL', 'WEST FINCHLEY', 'WOODSIDE PARK', 'TOTTERIDGE & WHETSTONE', 'HIGH BARNET', 'TOTTERIDGE & WHETSTONE', 'WOODSIDE PARK', 'WEST FINCHLEY', 'FINCHLEY CENTRAL', 'MILL HILL EAST', 'FINCHLEY CENTRAL', 'EAST FINCHLEY', 'HIGHGATE', 'ARCHWAY', 'TUFNELL PARK', 'KENTISH TOWN', 'CAMDEN TOWN', 'EUSTON', 'WARREN STREET', 'OXFORD CIRCUS', 'GREEN PARK', 'VICTORIA', 'PIMLICO', 'VAUXHALL', 'STOCKWELL', 'BRIXTON', 'STOCKWELL', 'VAUXHALL', 'PIMLICO', 'VICTORIA', 'SLOANE SQUARE', 'SOUTH KENSINGTON', 'GLOUCESTER ROAD', 'EARLS COURT', 'BARONS COURT', 'HAMMERSMITH', 'RAVENSCOURT PARK', 'STAMFORD BROOK', 'TURNHAM GREEN', 'GUNNERSBURY', 'KEW GARDENS', 'RICHMOND', 'KEW GARDENS', 'GUNNERSBURY', 'TURNHAM GREEN', 'CHISWICK PARK', 'ACTON TOWN', 'SOUTH EALING', 'NORTHFIELDS', 'BOSTON MANOR', 'OSTERLEY', 'HOUNSLOW EAST', 'HOUNSLOW CENTRAL', 'HOUNSLOW WEST', 'HATTON CROSS', 'HEATHROW TERMINAL FOUR', 'HEATHROW 123', 'HEATHROW 5', 'HEATHROW 123', 'HATTON CROSS', 'HOUNSLOW WEST', 'HOUNSLOW CENTRAL', 'HOUNSLOW EAST', 'OSTERLEY', 'BOSTON MANOR', 'NORTHFIELDS', 'SOUTH EALING', 'ACTON TOWN', 'EALING COMMON', 'NORTH EALING', 'PARK ROYAL', 'ALPERTON', 'SUDBURY TOWN', 'SUDBURY HILL', 'SOUTH HARROW', 'RAYNERS LANE', 'WEST HARROW', 'RAYNERS LANE', 'EASTCOTE', 'RUISLIP MANOR', 'RUISLIP', 'ICKENHAM', 'HILLINGDON', 'UXBRIDGE', 'HILLINGDON', 'ICKENHAM', 'RUISLIP', 'RUISLIP MANOR', 'EASTCOTE', 'RAYNERS LANE', 'WEST HARROW', 'HARROW-ON-THE-HILL', 'NORTHWICK PARK', 'PRESTON ROAD', 'WEMBLEY PARK', 'KINGSBURY', 'QUEENSBURY', 'CANONS PARK', 'STANMORE', 'CANONS PARK', 'QUEENSBURY', 'KINGSBURY', 'WEMBLEY PARK', 'PRESTON ROAD', 'NORTHWICK PARK', 'HARROW-ON-THE-HILL', 'MOOR PARK', 'CROXLEY', 'WATFORD', 'CROXLEY', 'MOOR PARK', 'RICKMANSWORTH', 'CHORLEYWOOD', 'CHALFONT & LATIMER', 'CHESHAM', 'CHALFONT & LATIMER', 'CHORLEYWOOD', 'RICKMANSWORTH', 'MOOR PARK', 'HARROW-ON-THE-HILL', 'WEST HARROW', 'RAYNERS LANE', 'SOUTH HARROW', 'SUDBURY HILL', 'SUDBURY TOWN', 'ALPERTON', 'PARK ROYAL', 'NORTH EALING', 'EALING COMMON', 'EALING BROADWAY', 'WEST ACTON', 'NORTH ACTON', 'HANGER LANE', 'PERIVALE', 'GREENFORD', 'NORTHOLT', 'SOUTH RUISLIP', 'RUISLIP GARDENS']\n"
     ]
    }
   ],
   "source": [
    "stations = g.nodes() #ith column in matrix (mat) corresponds to ith station in g.nodes\n",
    "visited = []\n",
    "\n",
    "station = 23 #Start at Amersham-Chalfont in stations list\n",
    "previous_station = 3\n",
    "route = []\n",
    "\n",
    "while len(set(visited)) < len(g.nodes())-1: # Set generates only unique items\n",
    "    visited_on_route = nx.shortest_path(g, source = stations[previous_station], target = stations[station], weight = 'weight')[1:]\n",
    "\n",
    "    for x in visited_on_route: # Mark all stations visited on route as visited\n",
    "        visited.append(stations.index(x)) \n",
    "        route.append(x)\n",
    "    \n",
    "    row = mat[station]\n",
    "    ordered_row = np.sort(row) # order by shortest distance\n",
    "    \n",
    "    for dist in np.nditer(ordered_row):\n",
    "        if np.where(dist==row)[1][0] not in visited:\n",
    "            previous_station = station\n",
    "            station = np.where(dist==row)[1][0]\n",
    "            break\n",
    "            \n",
    "print(route)"
   ]
  },
  {
   "cell_type": "code",
   "execution_count": 10,
   "metadata": {},
   "outputs": [
    {
     "name": "stdout",
     "output_type": "stream",
     "text": [
      "The weight of this route is:  [[ 940.91]]  mins\n"
     ]
    }
   ],
   "source": [
    "# We can find the weight of this network, to see how long out route is\n",
    "# We need 2 stations after each other (pattern [0,1],[1,2],[2,3]..., so the first iteration is impossible\n",
    "# We store the previous station id number and then use the current one to get our reference.\n",
    "\n",
    "total_weight = 0\n",
    "previous_id = None\n",
    "\n",
    "for station_id in visited:\n",
    "    if previous_id == None:\n",
    "        previous_id = station_id\n",
    "    \n",
    "    else:\n",
    "        total_weight += mat[[previous_id],[station_id]]\n",
    "        previous_id = station_id\n",
    "         \n",
    "print(\"The weight of this route is: \", total_weight, \" mins\")"
   ]
  },
  {
   "cell_type": "markdown",
   "metadata": {},
   "source": [
    "We can implement the 2-opt swap on this network, to remove overlapping edges. \n",
    "\n",
    "The current distance is the sum of the two edges being considered. These are generated by looking up the distance in the distance matrix (mat) between every combination of edges in the network. \n",
    "\n",
    "These links explain the algorithm well:\n",
    "\n",
    "https://stackoverflow.com/questions/33749268/generate-all-neighbors-for-2opt-in-python?rq=1\n",
    "\n",
    "https://stackoverflow.com/questions/44487073/2-opt-algorithm-neighbourhood-of-a-given-tour"
   ]
  },
  {
   "cell_type": "code",
   "execution_count": 11,
   "metadata": {
    "collapsed": true
   },
   "outputs": [],
   "source": [
    "for i in range(0, len(visited)-3):\n",
    "    for j in range(i+2, len(visited)-1):\n",
    "        \n",
    "        current_distance = mat[visited[i], visited[i+1]] + mat[visited[j], visited[j+1]]\n",
    "        new_distance = mat[visited[i], visited[j]] + mat[visited[i+1], visited[j+1]]\n",
    "        \n",
    "        if current_distance > new_distance:\n",
    "            \n",
    "            # Create tempory values to change the route in the route list and visited list\n",
    "            # These are the station ids\n",
    "            old_i = [visited[i+1], route[i+1]] # List as old dist, old route string\n",
    "            old_j = [visited[j], route[j]]\n",
    "            \n",
    "            visited[i+1] = old_j[0]\n",
    "            route[i+1] = old_j[1]\n",
    "\n",
    "            visited[j] = old_i[0]\n",
    "            route[j] = old_i[1]\n",
    "            "
   ]
  },
  {
   "cell_type": "code",
   "execution_count": 12,
   "metadata": {
    "collapsed": true
   },
   "outputs": [],
   "source": [
    "# Remove name duplicates next to each other\n",
    "for ix in range(len(set(visited))):\n",
    "    if ix == 0: # Skip first pass\n",
    "        continue\n",
    "    else:\n",
    "        if visited[ix] == visited[ix-1]:\n",
    "            del(visited[ix])\n",
    "            del(route[ix])"
   ]
  },
  {
   "cell_type": "code",
   "execution_count": 13,
   "metadata": {},
   "outputs": [
    {
     "name": "stdout",
     "output_type": "stream",
     "text": [
      "['AMERSHAM', 'CHALFONT & LATIMER', 'CHESHAM', 'CHALFONT & LATIMER', 'CHORLEYWOOD', 'CHORLEYWOOD', 'RICKMANSWORTH', 'RICKMANSWORTH', 'MOOR PARK', 'MOOR PARK', 'CROXLEY', 'WATFORD', 'CROXLEY', 'NORTHWOOD', 'NORTHWOOD HILLS', 'PINNER', 'NORTH HARROW', 'HARROW-ON-THE-HILL', 'HARROW-ON-THE-HILL', 'NORTHWICK PARK', 'PRESTON ROAD', 'WEMBLEY PARK', 'NEASDEN', 'DOLLIS HILL', 'WILLESDEN GREEN', 'KILBURN', 'WEST HAMPSTEAD', 'FINCHLEY ROAD', 'SWISS COTTAGE', 'ST JOHNS WOOD', 'BAKER STREET', 'GREAT PORTLAND STREET', 'EUSTON SQUARE', 'KINGS CROSS ST PANCRAS', 'FARRINGDON', 'BARBICAN', 'MOORGATE', 'OLD STREET', 'LIVERPOOL STREET', 'BETHNAL GREEN', 'MILE END', 'STRATFORD', 'LEYTON', 'LEYTONSTONE', 'SNARESBROOK', 'SOUTH WOODFORD', 'WOODFORD', 'BUCKHURST HILL', 'LOUGHTON', 'DEBDEN', 'THEYDON BOIS', 'EPPING', 'DEBDEN', 'BUCKHURST HILL', 'WOODFORD', 'SOUTH WOODFORD', 'SNARESBROOK', 'LEYTONSTONE', 'WANSTEAD', 'REDBRIDGE', 'GANTS HILL', 'NEWBURY PARK', 'BARKINGSIDE', 'FAIRLOP', 'HAINAULT', 'GRANGE HILL', 'CHIGWELL', 'RODING VALLEY', 'LEYTON', 'STRATFORD', 'WEST HAM', 'BROMLEY BY BOW', 'BOW ROAD', 'MILE END', 'STEPNEY GREEN', 'WHITECHAPEL', 'ALDGATE EAST', 'TOWER HILL', 'UPMINSTER', 'UPMINSTER BRIDGE', 'HORNCHURCH', 'ELM PARK', 'DAGENHAM EAST', 'DAGENHAM HEATHWAY', 'BECONTREE', 'UPNEY', 'BARKING', 'EAST HAM', 'UPTON PARK', 'PLAISTOW', 'WEST HAM', 'CANNING TOWN', 'NORTH GREENWICH', 'CANARY WHARF', 'CANADA WATER', 'BERMONDSEY', 'BOROUGH', 'ELEPHANT & CASTLE', 'KENNINGTON', 'STOCKWELL', 'CLAPHAM NORTH', 'CLAPHAM COMMON', 'CLAPHAM SOUTH', 'BALHAM', 'TOOTING BEC', 'TOOTING BROADWAY', 'COLLIERS WOOD', 'SOUTH WIMBLEDON', 'MORDEN', 'COLLIERS WOOD', 'TOOTING BROADWAY', 'CLAPHAM SOUTH', 'CLAPHAM COMMON', 'CLAPHAM NORTH', 'STOCKWELL', 'OVAL', 'STOCKWELL', 'BRIXTON', 'STOCKWELL', 'VAUXHALL', 'VAUXHALL', 'PIMLICO', 'PIMLICO', 'ST JAMES PARK', 'BANK', 'LIVERPOOL STREET', 'TOWER HILL', 'MONUMENT', 'CANNON STREET', 'MANSION HOUSE', 'BLACKFRIARS', 'TEMPLE', 'ST PAULS', 'LONDON BRIDGE', 'ALDGATE', 'SOUTHWARK', 'WATERLOO', 'LAMBETH NORTH', 'WATERLOO', 'EMBANKMENT', 'CHARING CROSS', 'LEICESTER SQUARE', 'COVENT GARDEN', 'CHANCERY LANE', 'HOLBORN', 'TOTTENHAM COURT ROAD', 'WARREN STREET', 'EUSTON', 'CAMDEN TOWN', 'KENTISH TOWN', 'TUFNELL PARK', 'ARCHWAY', 'HIGHGATE', 'EAST FINCHLEY', 'FINCHLEY CENTRAL', 'MILL HILL EAST', 'FINCHLEY CENTRAL', 'WEST FINCHLEY', 'WOODSIDE PARK', 'TOTTERIDGE & WHETSTONE', 'HIGH BARNET', 'TOTTERIDGE & WHETSTONE', 'WOODSIDE PARK', 'WEST FINCHLEY', 'FINCHLEY CENTRAL', 'HIGHGATE', 'ARCHWAY', 'TUFNELL PARK', 'KENTISH TOWN', 'CHALK FARM', 'BELSIZE PARK', 'HAMPSTEAD', 'GOLDERS GREEN', 'BRENT CROSS', 'HENDON CENTRAL', 'COLINDALE', 'BURNT OAK', 'EDGWARE', 'BURNT OAK', 'COLINDALE', 'HENDON CENTRAL', 'BRENT CROSS', 'GOLDERS GREEN', 'HAMPSTEAD', 'BELSIZE PARK', 'CHALK FARM', 'CAMDEN TOWN', 'MORNINGTON CRESCENT', 'EUSTON', 'HIGHBURY', 'FINSBURY PARK', 'FINSBURY PARK', 'SEVEN SISTERS', 'TOTTENHAM HALE', 'BLACKHORSE ROAD', 'WALTHAMSTOW', 'BLACKHORSE ROAD', 'TOTTENHAM HALE', 'FINSBURY PARK', 'MANOR HOUSE', 'TURNPIKE LANE', 'WOOD GREEN', 'BOUNDS GREEN', 'ARNOS GROVE', 'SOUTHGATE', 'OAKWOOD', 'COCKFOSTERS', 'SOUTHGATE', 'ARNOS GROVE', 'WOOD GREEN', 'TURNPIKE LANE', 'MANOR HOUSE', 'ARSENAL', 'HOLLOWAY ROAD', 'CALEDONIAN ROAD', 'KINGS CROSS', 'KINGS CROSS', 'ANGEL', 'HIGHBURY', 'RUSSELL SQUARE', 'EUSTON', 'WARREN STREET', 'GOODGE STREET', 'OXFORD CIRCUS', 'REGENTS PARK', 'OXFORD CIRCUS', 'BOND STREET', 'MARBLE ARCH', 'LANCASTER GATE', 'MARYLEBONE', 'EDGWARE ROAD', 'BAKER STREET ', 'KINGS CROSS ST PANCRAS', 'EDGWARE ROAD', 'PADDINGTON', 'WARWICK AVENUE', 'MAIDA VALE', 'KILBURN PARK', 'QUEENS PARK', 'KENSAL GREEN', 'WILLESDEN JUNCTION', 'HARLESDEN', 'STONEBRIDGE PARK', 'WEMBLEY CENTRAL', 'NORTH WEMBLEY', 'SOUTH KENTON', 'KENTON', 'HARROW & WEALDSTONE', 'SOUTH KENTON', 'NORTH WEMBLEY', 'WEMBLEY CENTRAL', 'STONEBRIDGE PARK', 'HARLESDEN', 'KENSAL GREEN', 'QUEENS PARK', 'PADDINGTON', 'ROYAL OAK', 'WESTBOURNE PARK', 'LADBROKE GROVE', 'LATIMER ROAD', 'WOOD LANE', 'SHEPHERDS BUSH MARKET', 'GOLDHAWK ROAD', 'BAYSWATER', 'NOTTING HILL GATE', 'NOTTING HILL GATE', 'HOLLAND PARK', 'SHEPHERDS BUSH', 'QUEENSWAY', 'HIGH STREET KENSINGTON', 'HIGH STREET KENSINGTON', 'GLOUCESTER ROAD', 'SOUTH KENSINGTON', 'SLOANE SQUARE', 'VICTORIA', 'VICTORIA', 'GREEN PARK', 'GREEN PARK', 'PICCADILLY CIRCUS', 'GREEN PARK', 'WESTMINSTER', 'VICTORIA', 'VICTORIA', 'SLOANE SQUARE', 'SOUTH KENSINGTON', 'HYDE PARK CORNER', 'KNIGHTSBRIDGE', 'SOUTH KENSINGTON', 'GLOUCESTER ROAD', 'GLOUCESTER ROAD', 'WEST BROMPTON', 'FULHAM BROADWAY', 'PARSONS GREEN', 'EAST PUTNEY', 'WIMBLEDON', 'WIMBLEDON PARK', 'WIMBLEDON PARK', 'SOUTHFIELDS', 'SOUTHFIELDS', 'EAST PUTNEY', 'PUTNEY BRIDGE', 'PUTNEY BRIDGE', 'PARSONS GREEN', 'FULHAM BROADWAY', 'WEST BROMPTON', 'EARLS COURT', 'EARLS COURT', 'EARLS COURT', 'EARLS COURT', 'EARLS COURT', 'KENSINGTON (OLYMPIA)', 'WEST KENSINGTON', 'BARONS COURT', 'BARONS COURT', 'BARONS COURT', 'HAMMERSMITH', 'HAMMERSMITH', 'HAMMERSMITH', 'RAVENSCOURT PARK', 'RAVENSCOURT PARK', 'STAMFORD BROOK', 'STAMFORD BROOK', 'TURNHAM GREEN', 'TURNHAM GREEN', 'GUNNERSBURY', 'KEW GARDENS', 'KEW GARDENS', 'RICHMOND', 'GUNNERSBURY', 'TURNHAM GREEN', 'CHISWICK PARK', 'CHISWICK PARK', 'ACTON TOWN', 'SOUTH EALING', 'NORTHFIELDS', 'BOSTON MANOR', 'OSTERLEY', 'HOUNSLOW EAST', 'HOUNSLOW CENTRAL', 'HOUNSLOW WEST', 'HATTON CROSS', 'HEATHROW 123', 'HEATHROW 5', 'HEATHROW 123', 'HEATHROW TERMINAL FOUR', 'HATTON CROSS', 'HOUNSLOW WEST', 'HOUNSLOW CENTRAL', 'HOUNSLOW EAST', 'OSTERLEY', 'BOSTON MANOR', 'NORTHFIELDS', 'SOUTH EALING', 'ACTON TOWN', 'ACTON TOWN', 'EALING COMMON', 'EALING COMMON', 'NORTH EALING', 'PARK ROYAL', 'ALPERTON', 'SUDBURY TOWN', 'SUDBURY HILL', 'SOUTH HARROW', 'RAYNERS LANE', 'RAYNERS LANE', 'EASTCOTE', 'RUISLIP MANOR', 'RUISLIP MANOR', 'RUISLIP', 'ICKENHAM', 'HILLINGDON', 'UXBRIDGE', 'HILLINGDON', 'ICKENHAM', 'RUISLIP', 'EASTCOTE', 'WEST HARROW', 'WEST HARROW', 'KINGSBURY', 'QUEENSBURY', 'CANONS PARK', 'STANMORE', 'CANONS PARK', 'QUEENSBURY', 'KINGSBURY', 'WEMBLEY PARK', 'WEMBLEY PARK', 'PRESTON ROAD', 'PRESTON ROAD', 'NORTHWICK PARK', 'NORTHWICK PARK', 'WEST HARROW', 'RAYNERS LANE', 'RAYNERS LANE', 'SOUTH HARROW', 'SUDBURY HILL', 'SUDBURY TOWN', 'ALPERTON', 'PARK ROYAL', 'NORTH EALING', 'EALING COMMON', 'EALING BROADWAY', 'EALING BROADWAY', 'WEST ACTON', 'WEST ACTON', 'WHITE CITY', 'EAST ACTON', 'NORTH ACTON', 'NORTH ACTON', 'HANGER LANE', 'PERIVALE', 'GREENFORD', 'NORTHOLT', 'SOUTH RUISLIP', 'RUISLIP GARDENS']\n"
     ]
    }
   ],
   "source": [
    "print(route)"
   ]
  },
  {
   "cell_type": "code",
   "execution_count": 14,
   "metadata": {},
   "outputs": [
    {
     "name": "stdout",
     "output_type": "stream",
     "text": [
      "The weight of this route is:  [[ 900.87]]  mins\n"
     ]
    }
   ],
   "source": [
    "#Again find the weight\n",
    "total_weight = 0\n",
    "previous_id = None\n",
    "\n",
    "for station_id in visited:\n",
    "    if previous_id == None:\n",
    "        previous_id = station_id\n",
    "    \n",
    "    else:\n",
    "        total_weight += mat[[previous_id],[station_id]]\n",
    "        previous_id = station_id\n",
    "         \n",
    "print(\"The weight of this route is: \", total_weight, \" mins\")"
   ]
  },
  {
   "cell_type": "code",
   "execution_count": null,
   "metadata": {
    "collapsed": true
   },
   "outputs": [],
   "source": []
  }
 ],
 "metadata": {
  "kernelspec": {
   "display_name": "Python 3",
   "language": "python",
   "name": "python3"
  },
  "language_info": {
   "codemirror_mode": {
    "name": "ipython",
    "version": 3
   },
   "file_extension": ".py",
   "mimetype": "text/x-python",
   "name": "python",
   "nbconvert_exporter": "python",
   "pygments_lexer": "ipython3",
   "version": "3.6.2"
  }
 },
 "nbformat": 4,
 "nbformat_minor": 2
}
